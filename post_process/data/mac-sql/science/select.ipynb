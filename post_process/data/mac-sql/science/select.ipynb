{
 "cells": [
  {
   "cell_type": "code",
   "execution_count": 2,
   "metadata": {},
   "outputs": [],
   "source": [
    "import json\n",
    "import os"
   ]
  },
  {
   "cell_type": "code",
   "execution_count": 3,
   "metadata": {},
   "outputs": [],
   "source": [
    "file_path = r'/home/jyw/Projects/CHESS/post_process/data/mac-sql/science/output_science.json'"
   ]
  },
  {
   "cell_type": "code",
   "execution_count": 12,
   "metadata": {},
   "outputs": [],
   "source": [
    "pred_list = []\n",
    "with open(file_path, 'r') as file:\n",
    "    for line in file:\n",
    "        idx = line.split(\",\")[0].split(\": \")[-1].strip()\n",
    "        pred_list.append(idx)\n",
    "            # print(len(idx))\n",
    "            # break\n",
    "        # if \"pred:\" not in line:\n",
    "        #     idx_position = line.find(\"idx:\")\n",
    "        #     if idx_position != -1:\n",
    "        #         idx_info = line[idx_position + len(\"idx:\"):].strip()\n",
    "        #         print(idx_info)"
   ]
  },
  {
   "cell_type": "code",
   "execution_count": 14,
   "metadata": {},
   "outputs": [
    {
     "data": {
      "text/plain": [
       "'0'"
      ]
     },
     "execution_count": 14,
     "metadata": {},
     "output_type": "execute_result"
    }
   ],
   "source": [
    "len(pred_list)\n",
    "pred_list[0]"
   ]
  },
  {
   "cell_type": "code",
   "execution_count": 15,
   "metadata": {},
   "outputs": [
    {
     "name": "stdout",
     "output_type": "stream",
     "text": [
      "188\n",
      "218\n",
      "261\n",
      "277\n",
      "279\n"
     ]
    }
   ],
   "source": [
    "for i in range(0,299):\n",
    "    if str(i) not in pred_list:\n",
    "        print(i)\n",
    "        # break\n"
   ]
  },
  {
   "cell_type": "code",
   "execution_count": null,
   "metadata": {},
   "outputs": [],
   "source": [
    "def process_file(file_path):\n",
    "    with open(file_path, 'r') as file:\n",
    "        for line in file:\n",
    "            if \"pred:\" not in line:\n",
    "                idx_position = line.find(\"idx:\")\n",
    "                if idx_position != -1:\n",
    "                    idx_info = line[idx_position + len(\"idx:\"):].strip()\n",
    "                    print(idx_info)\n",
    "\n",
    "# Example usage\n",
    "file_path = 'your_file.txt'\n",
    "process_file(file_path)"
   ]
  },
  {
   "cell_type": "code",
   "execution_count": null,
   "metadata": {},
   "outputs": [],
   "source": []
  }
 ],
 "metadata": {
  "kernelspec": {
   "display_name": "chess",
   "language": "python",
   "name": "python3"
  },
  "language_info": {
   "codemirror_mode": {
    "name": "ipython",
    "version": 3
   },
   "file_extension": ".py",
   "mimetype": "text/x-python",
   "name": "python",
   "nbconvert_exporter": "python",
   "pygments_lexer": "ipython3",
   "version": "3.9.20"
  }
 },
 "nbformat": 4,
 "nbformat_minor": 2
}
