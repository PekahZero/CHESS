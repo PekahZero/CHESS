{
 "cells": [
  {
   "cell_type": "code",
   "execution_count": 1,
   "metadata": {},
   "outputs": [],
   "source": [
    "import json\n"
   ]
  },
  {
   "cell_type": "code",
   "execution_count": 2,
   "metadata": {},
   "outputs": [],
   "source": [
    "import json\n",
    "\n",
    "# 源 JSON 文件路径\n",
    "source_file_path = \"/home/jyw/Projects/CHESS/post_process/data/mac-sql/predict_dev.json\"\n",
    "\n",
    "# 目标文本文件路径\n",
    "output_file_path = source_file_path.replace('.json', '.txt')\n",
    "\n",
    "# 读取源 JSON 文件\n",
    "with open(source_file_path, 'r') as source_file:\n",
    "    data = json.load(source_file)\n",
    "\n"
   ]
  },
  {
   "cell_type": "code",
   "execution_count": 3,
   "metadata": {},
   "outputs": [],
   "source": [
    "# 原始问题的idx 515和683不存在\n",
    "# 514 (515) 516 --> idx = 515 copy\n",
    "# 682 (683) 684 --> idx = 683 copy\n",
    "mac_sql_list = []\n",
    "for idx, (q, sql) in enumerate(data):\n",
    "    if idx == 515 or idx == 682:\n",
    "        mac_sql_list.append(\"SELECT 1\")\n",
    "        mac_sql_list.append(sql.split('\\t')[0])\n",
    "    else:\n",
    "        mac_sql_list.append(sql.split('\\t')[0])"
   ]
  },
  {
   "cell_type": "code",
   "execution_count": 4,
   "metadata": {},
   "outputs": [
    {
     "data": {
      "text/plain": [
       "1534"
      ]
     },
     "execution_count": 4,
     "metadata": {},
     "output_type": "execute_result"
    }
   ],
   "source": [
    "len(mac_sql_list)"
   ]
  },
  {
   "cell_type": "code",
   "execution_count": 5,
   "metadata": {},
   "outputs": [],
   "source": [
    "# 目标文本文件路径\n",
    "output_file_path = source_file_path.replace('.json', '.txt')\n",
    "\n",
    "with open(output_file_path, 'w') as output_file:\n",
    "    for sql in mac_sql_list:\n",
    "        output_file.write(sql + '\\n')"
   ]
  },
  {
   "cell_type": "code",
   "execution_count": null,
   "metadata": {},
   "outputs": [],
   "source": []
  },
  {
   "cell_type": "code",
   "execution_count": 6,
   "metadata": {},
   "outputs": [],
   "source": [
    "import json\n",
    "\n",
    "# 源 JSON 文件路径\n",
    "source_file_path = \"/home/jyw/Projects/CHESS/post_process/data/mac-sql/output_bird.json\"\n",
    "\n",
    "# 目标文本文件路径\n",
    "output_file_path = source_file_path.replace('.json', '.txt')\n",
    "\n",
    "\n",
    "# 读取 JSON 文件\n",
    "with open(source_file_path, 'r', encoding='utf-8') as file:\n",
    "    data = file.readlines()\n",
    "\n"
   ]
  },
  {
   "cell_type": "code",
   "execution_count": null,
   "metadata": {},
   "outputs": [],
   "source": []
  },
  {
   "cell_type": "code",
   "execution_count": 7,
   "metadata": {},
   "outputs": [],
   "source": [
    "idx_list = []\n",
    "for d in data:\n",
    "    idx_list.append(int(d.split(',')[0].split(':')[-1]))"
   ]
  },
  {
   "cell_type": "code",
   "execution_count": 8,
   "metadata": {},
   "outputs": [
    {
     "data": {
      "text/plain": [
       "1532"
      ]
     },
     "execution_count": 8,
     "metadata": {},
     "output_type": "execute_result"
    }
   ],
   "source": [
    "len(idx_list)"
   ]
  },
  {
   "cell_type": "code",
   "execution_count": 9,
   "metadata": {},
   "outputs": [
    {
     "name": "stdout",
     "output_type": "stream",
     "text": [
      "515\n",
      "683\n"
     ]
    }
   ],
   "source": [
    "for i in range(0, 1533):\n",
    "    if i not in idx_list:\n",
    "        print(i)"
   ]
  },
  {
   "cell_type": "code",
   "execution_count": 10,
   "metadata": {},
   "outputs": [],
   "source": [
    "import json\n",
    "\n",
    "# 源 JSON 文件路径\n",
    "source_file_path = \"/home/jyw/Projects/CHESS/post_process/data/mac-sql/output_bird.json\"\n",
    "\n",
    "# 目标文本文件路径\n",
    "output_file_path = source_file_path.replace('.json', '.txt')\n",
    "\n",
    "# 读取源 JSON 文件\n",
    "with open(source_file_path, 'r') as source_file:\n",
    "    data = source_file.readlines()"
   ]
  },
  {
   "cell_type": "code",
   "execution_count": 11,
   "metadata": {},
   "outputs": [
    {
     "name": "stdout",
     "output_type": "stream",
     "text": [
      "{\"idx\": 78, \"db_id\": \"california_schools\", \"query\": \"What is the most common type of grade span served in the city of Adelanto?\", \"evidence\": \"\", \"extracted_schema\": {\"frpm\": \"drop_all\", \"satscores\": \"drop_all\", \"schools\": [\"City\", \"GSserved\", \"School\", \"District\", \"County\", \"StatusType\"]}, \"ground_truth\": \"SELECT GSserved FROM schools WHERE City = 'Adelanto' GROUP BY GSserved ORDER BY COUNT(GSserved) DESC LIMIT 1\", \"difficulty\": \"simple\", \"chosen_db_schem_dict\": {\"frpm\": [\"CDSCode\", \"Academic Year\", \"County Code\", \"District Code\", \"School Code\", \"County Name\"], \"satscores\": [\"cds\", \"rtype\", \"sname\", \"dname\", \"cname\", \"enroll12\"], \"schools\": [\"CDSCode\", \"StatusType\", \"County\", \"District\", \"School\", \"City\", \"GSserved\"]}, \"pruned\": true, \"final_sql\": \"SELECT T3.`GSserved`\\n  FROM schools AS T3\\n  WHERE T3.`City` = 'Adelanto'\\n  GROUP BY T3.`GSserved`\\n  ORDER BY COUNT(*) DESC\\n  LIMIT 1\", \"qa_pairs\": \"To answer the question \\\"What is the most common type of grade span served in the city of Adelanto?\\\", we need to break it down into sub-questions and generate the corresponding SQL queries step by step.\\n\\n### Sub-question 1: Get the grade spans served by schools in the city of Adelanto.\\nSQL\\n```sql\\nSELECT T3.`GSserved`\\n  FROM schools AS T3\\n  WHERE T3.`City` = 'Adelanto'\\n```\\n\\n### Sub-question 2: Count the occurrences of each grade span served in the city of Adelanto.\\nSQL\\n```sql\\nSELECT T3.`GSserved`, COUNT(*) AS `count`\\n  FROM schools AS T3\\n  WHERE T3.`City` = 'Adelanto'\\n  GROUP BY T3.`GSserved`\\n```\\n\\n### Sub-question 3: Find the most common grade span served in the city of Adelanto.\\nSQL\\n```sql\\nSELECT T3.`GSserved`\\n  FROM schools AS T3\\n  WHERE T3.`City` = 'Adelanto'\\n  GROUP BY T3.`GSserved`\\n  ORDER BY COUNT(*) DESC\\n  LIMIT 1\\n```\\n\\n### Final SQL Query\\nCombining the steps, the final SQL query to find the most common type of grade span served in the city of Adelanto is:\\n```sql\\nSELECT T3.`GSserved`\\n  FROM schools AS T3\\n  WHERE T3.`City` = 'Adelanto'\\n  GROUP BY T3.`GSserved`\\n  ORDER BY COUNT(*) DESC\\n  LIMIT 1\\n```\\n\\n### Question Solved.\", \"fixed\": false, \"try_times\": 1, \"pred\": \"SELECT T3.`GSserved`\\n  FROM schools AS T3\\n  WHERE T3.`City` = 'Adelanto'\\n  GROUP BY T3.`GSserved`\\n  ORDER BY COUNT(*) DESC\\n  LIMIT 1\"},\n",
      "\n"
     ]
    }
   ],
   "source": [
    "data_dict_list = []\n",
    "for line in data:\n",
    "    # print(line)\n",
    "    # print(json.loads(line))\n",
    "    try:\n",
    "        data_dict_list.append(json.loads(line))\n",
    "    except:\n",
    "        print(line)"
   ]
  },
  {
   "cell_type": "code",
   "execution_count": null,
   "metadata": {},
   "outputs": [],
   "source": []
  },
  {
   "cell_type": "code",
   "execution_count": 27,
   "metadata": {},
   "outputs": [],
   "source": [
    "def sql_normal(str):\n",
    "    str = str.replace('\\n', '')\n",
    "    str = str.replace('\\t', ' ')\n",
    "    str = str.replace('  ', ' ')\n",
    "    return str"
   ]
  },
  {
   "cell_type": "code",
   "execution_count": 28,
   "metadata": {},
   "outputs": [],
   "source": [
    "data_final = []\n",
    "for data_dict in data_dict_list:\n",
    "    \n",
    "    data_final.append(sql_normal(data_dict['final_sql']))\n",
    "    # 补全\n",
    "    if(data_dict['idx']==77):\n",
    "        data_final.append(\"SELECT T3.`GSserved` FROM schools AS T3 WHERE T3.`City` = 'Adelanto' GROUP BY T3.`GSserved` ORDER BY COUNT(*) DESC LIMIT 1\")\n",
    "    if(data_dict['idx']==514 or data_dict['idx']==682):\n",
    "        data_final.append(\"SELECT 1\")\n",
    "        \n",
    "    "
   ]
  },
  {
   "cell_type": "code",
   "execution_count": 29,
   "metadata": {},
   "outputs": [
    {
     "data": {
      "text/plain": [
       "1534"
      ]
     },
     "execution_count": 29,
     "metadata": {},
     "output_type": "execute_result"
    }
   ],
   "source": [
    "len(data_final)"
   ]
  },
  {
   "cell_type": "code",
   "execution_count": 30,
   "metadata": {},
   "outputs": [],
   "source": [
    "target_file_path = \"/home/jyw/Projects/CHESS/post_process/data/mac-sql/output_bird.txt\"\n",
    "with open(target_file_path, 'w') as target_file:\n",
    "    for sql in data_final:\n",
    "        target_file.write(sql + '\\n') "
   ]
  },
  {
   "cell_type": "code",
   "execution_count": null,
   "metadata": {},
   "outputs": [],
   "source": []
  }
 ],
 "metadata": {
  "kernelspec": {
   "display_name": "chess",
   "language": "python",
   "name": "python3"
  },
  "language_info": {
   "codemirror_mode": {
    "name": "ipython",
    "version": 3
   },
   "file_extension": ".py",
   "mimetype": "text/x-python",
   "name": "python",
   "nbconvert_exporter": "python",
   "pygments_lexer": "ipython3",
   "version": "3.9.20"
  }
 },
 "nbformat": 4,
 "nbformat_minor": 2
}
