{
 "cells": [
  {
   "cell_type": "code",
   "execution_count": 26,
   "metadata": {},
   "outputs": [],
   "source": [
    "import json\n",
    "\n",
    "# post_process/data/din-sql/\n",
    "\n",
    "din_science = '/home/jyw/Projects/CHESS/post_process/data/din-sql/science/predict_dev_re.json'\n",
    "din_science_out = din_science.split('.json')[0] + '.txt'\n",
    "\n",
    "din_spider = '/home/jyw/Projects/CHESS/post_process/data/din-sql/spider/merge_log.json'\n",
    "din_spider_out = din_spider.split('.json')[0] + '.txt'\n",
    "\n",
    "\n"
   ]
  },
  {
   "cell_type": "code",
   "execution_count": 17,
   "metadata": {},
   "outputs": [
    {
     "data": {
      "text/plain": [
       "list"
      ]
     },
     "execution_count": 17,
     "metadata": {},
     "output_type": "execute_result"
    }
   ],
   "source": [
    "data\n",
    "type(data)"
   ]
  },
  {
   "cell_type": "code",
   "execution_count": 18,
   "metadata": {},
   "outputs": [
    {
     "data": {
      "text/plain": [
       "1034"
      ]
     },
     "execution_count": 18,
     "metadata": {},
     "output_type": "execute_result"
    }
   ],
   "source": [
    "len(data)"
   ]
  },
  {
   "cell_type": "code",
   "execution_count": 23,
   "metadata": {},
   "outputs": [
    {
     "data": {
      "text/plain": [
       "'/home/jyw/Projects/CHESS/post_process/data/din-sql/science/predict_dev_re.txt'"
      ]
     },
     "execution_count": 23,
     "metadata": {},
     "output_type": "execute_result"
    }
   ],
   "source": [
    "din_spider_out"
   ]
  },
  {
   "cell_type": "code",
   "execution_count": 27,
   "metadata": {},
   "outputs": [],
   "source": [
    "# Load the JSON file\n",
    "with open(din_spider, 'r') as file:\n",
    "    data = json.load(file)\n",
    "\n",
    "with open(din_spider_out, 'w') as file:\n",
    "    for d in data:\n",
    "        sql = d['query']\n",
    "        file.write(sql + '\\n')"
   ]
  },
  {
   "cell_type": "code",
   "execution_count": 20,
   "metadata": {},
   "outputs": [
    {
     "data": {
      "text/plain": [
       "{'question': 'How many singers do we have?',\n",
       " 'query': 'SELECT count(*) FROM singer',\n",
       " 'db_id': 'concert_singer'}"
      ]
     },
     "execution_count": 20,
     "metadata": {},
     "output_type": "execute_result"
    }
   ],
   "source": [
    "data[0]"
   ]
  },
  {
   "cell_type": "code",
   "execution_count": 25,
   "metadata": {},
   "outputs": [],
   "source": [
    "\n",
    "# Load the JSON file\n",
    "with open(din_science, 'r') as file:\n",
    "    data = json.load(file)\n",
    "    \n",
    "# Write the SQL queries to a text file\n",
    "with open(din_science_out, 'w') as file:\n",
    "    for _, value in data.items():\n",
    "        sql = value.split('\\t')[0]\n",
    "        file.write(sql + '\\n')\n",
    "        \n",
    "        # post_process/data/din-sql/pre_sort copy.json"
   ]
  },
  {
   "cell_type": "code",
   "execution_count": 22,
   "metadata": {},
   "outputs": [],
   "source": [
    "# p = '/home/jyw/Projects/CHESS/post_process/data/din-sql/predictions_re.txt'\n",
    "\n",
    "# pp  = p.replace('.txt', '_k.txt')\n",
    "# with open(p, 'r') as p:\n",
    "#     lines = p.readlines()\n",
    "#     with open(pp, 'w') as pp:\n",
    "#         for line in lines:\n",
    "#             pp.write(line+'\\n')\n"
   ]
  },
  {
   "cell_type": "code",
   "execution_count": null,
   "metadata": {},
   "outputs": [],
   "source": []
  }
 ],
 "metadata": {
  "kernelspec": {
   "display_name": "chess",
   "language": "python",
   "name": "python3"
  },
  "language_info": {
   "codemirror_mode": {
    "name": "ipython",
    "version": 3
   },
   "file_extension": ".py",
   "mimetype": "text/x-python",
   "name": "python",
   "nbconvert_exporter": "python",
   "pygments_lexer": "ipython3",
   "version": "3.9.20"
  }
 },
 "nbformat": 4,
 "nbformat_minor": 2
}
